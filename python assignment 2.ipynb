{
 "cells": [
  {
   "cell_type": "markdown",
   "id": "bf8768a7-ed36-40bd-9310-af51b41b8fa3",
   "metadata": {},
   "source": [
    "PYTHON - STRING"
   ]
  },
  {
   "cell_type": "markdown",
   "id": "ef403bfa-3e9e-4a6c-8d98-afc17b6bfef1",
   "metadata": {},
   "source": [
    "ASSIGNMENT QUESTIONS"
   ]
  },
  {
   "cell_type": "code",
   "execution_count": 1,
   "id": "8ff8a97d-c626-4a9b-86f2-e4d6abeab842",
   "metadata": {
    "tags": []
   },
   "outputs": [],
   "source": [
    "#QUESTION 1"
   ]
  },
  {
   "cell_type": "code",
   "execution_count": 2,
   "id": "be8162c6-33a3-4d85-bc2a-36d1b4c20ab3",
   "metadata": {
    "tags": []
   },
   "outputs": [],
   "source": [
    "#HOW CAN WE STORE A SINGLE QUOTE(') AS A STRING IN A VARIABLE?"
   ]
  },
  {
   "cell_type": "code",
   "execution_count": 11,
   "id": "ca30917d-a941-4846-a9a2-6bd11d5d5d8a",
   "metadata": {
    "tags": []
   },
   "outputs": [
    {
     "name": "stdout",
     "output_type": "stream",
     "text": [
      "I'm happy\n"
     ]
    }
   ],
   "source": [
    "quote = \"I'm happy\"\n",
    "print(quote)"
   ]
  },
  {
   "cell_type": "code",
   "execution_count": null,
   "id": "143a9e8e-b430-4492-b204-78965c34c44c",
   "metadata": {},
   "outputs": [],
   "source": []
  },
  {
   "cell_type": "code",
   "execution_count": null,
   "id": "42f89676-9884-4976-8180-1c99d3baa5af",
   "metadata": {},
   "outputs": [],
   "source": []
  },
  {
   "cell_type": "code",
   "execution_count": 3,
   "id": "2eb2b2b0-6966-449c-b317-0c9314285524",
   "metadata": {
    "tags": []
   },
   "outputs": [],
   "source": [
    "#QUESTION 2"
   ]
  },
  {
   "cell_type": "markdown",
   "id": "90f8ee00-a2ed-46c0-9320-fbb1b6c1330e",
   "metadata": {
    "tags": []
   },
   "source": [
    "REFER THE BELOW VARIABLE \n",
    "x = 'a'\n",
    "HERE, IS X A CHARACTER TYPEOR STRING TYPE VARIABLE? SUPPORT YOUR ANSWER WITH AN EXPLANATION."
   ]
  },
  {
   "cell_type": "code",
   "execution_count": null,
   "id": "9fc82340-68cf-4ffd-acaf-30af0661f5d5",
   "metadata": {},
   "outputs": [],
   "source": [
    "\"\"\"The variable 'x' in this case is a string type vriable. It is considered a string because the value assigned \n",
    "to 'x' is enclosed in single quotes, which is the syntax used to define string literals in python. the string \n",
    "consists of the characters 'a' and ''( Therefore , x is a string type variable.)"
   ]
  },
  {
   "cell_type": "code",
   "execution_count": null,
   "id": "be2009a8-2806-4273-8921-e5799e055139",
   "metadata": {},
   "outputs": [],
   "source": []
  },
  {
   "cell_type": "code",
   "execution_count": null,
   "id": "4e3d2418-06a2-4800-b5aa-c470ea177695",
   "metadata": {},
   "outputs": [],
   "source": []
  },
  {
   "cell_type": "code",
   "execution_count": 5,
   "id": "9ae7b0e3-87d9-42a9-9d39-c29fc9ef4e0f",
   "metadata": {
    "tags": []
   },
   "outputs": [],
   "source": [
    "#QUESTION 3"
   ]
  },
  {
   "cell_type": "markdown",
   "id": "4551f380-cfef-4ef9-837f-03ccde95bde1",
   "metadata": {},
   "source": [
    "APPLY THE FOLLOWING FUNCTIONS ON THIS VARIABLE: 'WELCOME TO PYTHON FOUNDATION COURSE'\n",
    "1. find()\n",
    "2.count()\n",
    "3.len()\n",
    "4. concatenation\n",
    "note: you can use your choice of parameters. but make sure it is ccorrect."
   ]
  },
  {
   "cell_type": "code",
   "execution_count": 12,
   "id": "0ac77900-4855-446b-b007-0d829212c2cc",
   "metadata": {
    "tags": []
   },
   "outputs": [],
   "source": [
    "a = 'Welcome to python foundation course'"
   ]
  },
  {
   "cell_type": "code",
   "execution_count": 13,
   "id": "9263bffd-b848-4f9e-bf05-973ba6b6ee25",
   "metadata": {
    "tags": []
   },
   "outputs": [
    {
     "data": {
      "text/plain": [
       "'Welcome to python foundation course'"
      ]
     },
     "execution_count": 13,
     "metadata": {},
     "output_type": "execute_result"
    }
   ],
   "source": [
    "a"
   ]
  },
  {
   "cell_type": "code",
   "execution_count": 15,
   "id": "55f867ae-23a1-4332-b2d8-a7b5a29bd72c",
   "metadata": {
    "tags": []
   },
   "outputs": [
    {
     "data": {
      "text/plain": [
       "0"
      ]
     },
     "execution_count": 15,
     "metadata": {},
     "output_type": "execute_result"
    }
   ],
   "source": [
    "a.find(a)"
   ]
  },
  {
   "cell_type": "code",
   "execution_count": 19,
   "id": "64f7657c-5659-4dd9-8941-41d8cd0658e2",
   "metadata": {
    "tags": []
   },
   "outputs": [
    {
     "data": {
      "text/plain": [
       "1"
      ]
     },
     "execution_count": 19,
     "metadata": {},
     "output_type": "execute_result"
    }
   ],
   "source": [
    "a.count('W')"
   ]
  },
  {
   "cell_type": "code",
   "execution_count": 21,
   "id": "2de0e055-9c8b-47c4-9140-0ba4b02d955c",
   "metadata": {
    "tags": []
   },
   "outputs": [
    {
     "data": {
      "text/plain": [
       "35"
      ]
     },
     "execution_count": 21,
     "metadata": {},
     "output_type": "execute_result"
    }
   ],
   "source": [
    "len(a)"
   ]
  },
  {
   "cell_type": "code",
   "execution_count": 22,
   "id": "ed73f64a-456e-4e46-bff5-b7cbfe798352",
   "metadata": {
    "tags": []
   },
   "outputs": [
    {
     "data": {
      "text/plain": [
       "'Welcome to python foundation course'"
      ]
     },
     "execution_count": 22,
     "metadata": {},
     "output_type": "execute_result"
    }
   ],
   "source": [
    "a"
   ]
  },
  {
   "cell_type": "code",
   "execution_count": 27,
   "id": "54f43532-a9ae-433c-802c-67e14c651475",
   "metadata": {
    "tags": []
   },
   "outputs": [],
   "source": [
    "b = ' pwskills'"
   ]
  },
  {
   "cell_type": "code",
   "execution_count": 28,
   "id": "f0d921ec-03c2-4c7c-8b08-f233fa2394e3",
   "metadata": {
    "tags": []
   },
   "outputs": [
    {
     "data": {
      "text/plain": [
       "' pwskills'"
      ]
     },
     "execution_count": 28,
     "metadata": {},
     "output_type": "execute_result"
    }
   ],
   "source": [
    "b"
   ]
  },
  {
   "cell_type": "code",
   "execution_count": 29,
   "id": "045ed912-3763-43a3-b090-92094fdf20b1",
   "metadata": {
    "tags": []
   },
   "outputs": [
    {
     "data": {
      "text/plain": [
       "'Welcome to python foundation course pwskills'"
      ]
     },
     "execution_count": 29,
     "metadata": {},
     "output_type": "execute_result"
    }
   ],
   "source": [
    "a + b"
   ]
  },
  {
   "cell_type": "code",
   "execution_count": null,
   "id": "56b0d648-4baf-4a48-94b3-a751ab541205",
   "metadata": {},
   "outputs": [],
   "source": []
  },
  {
   "cell_type": "code",
   "execution_count": null,
   "id": "c597ceac-1436-4812-9ffc-13337b8c002f",
   "metadata": {},
   "outputs": [],
   "source": []
  },
  {
   "cell_type": "code",
   "execution_count": 6,
   "id": "c3625d06-65de-4ae1-8b7b-0638ebfc34d5",
   "metadata": {
    "tags": []
   },
   "outputs": [],
   "source": [
    "#QUESTION 4"
   ]
  },
  {
   "cell_type": "markdown",
   "id": "2cc551c1-f2bb-4973-98d7-d90bb72e85e7",
   "metadata": {},
   "source": [
    "FOR THE VARIABLE: WORD = 'PANAJI@12256' \n",
    "CALCULATE THE FOLLOWING:\n",
    "    (a) TOTAL NUMBER OF ALPHABETS IN LOWERCASE\n",
    "    (b) TOTAL NUMBER OF ALPHABETS IN UPPERCASE\n",
    "    (c) TOTAL NUMBER OF NUMERICAL IN STRING"
   ]
  },
  {
   "cell_type": "code",
   "execution_count": 30,
   "id": "cd9bab16-d192-4cf2-805a-11afd45795c6",
   "metadata": {
    "tags": []
   },
   "outputs": [],
   "source": [
    "word = 'PanaJi@12256'"
   ]
  },
  {
   "cell_type": "code",
   "execution_count": 31,
   "id": "9cad60de-a45f-49a4-bde6-121aa4ac47aa",
   "metadata": {
    "tags": []
   },
   "outputs": [
    {
     "data": {
      "text/plain": [
       "'PanaJi@12256'"
      ]
     },
     "execution_count": 31,
     "metadata": {},
     "output_type": "execute_result"
    }
   ],
   "source": [
    "word"
   ]
  },
  {
   "cell_type": "code",
   "execution_count": 32,
   "id": "f398d0f9-95b7-4cd6-af8c-82381afb22b3",
   "metadata": {
    "tags": []
   },
   "outputs": [
    {
     "data": {
      "text/plain": [
       "'panaji@12256'"
      ]
     },
     "execution_count": 32,
     "metadata": {},
     "output_type": "execute_result"
    }
   ],
   "source": [
    "word.lower()"
   ]
  },
  {
   "cell_type": "code",
   "execution_count": 33,
   "id": "10b41453-2c11-4297-b09f-1fab1fc4a24b",
   "metadata": {
    "tags": []
   },
   "outputs": [
    {
     "data": {
      "text/plain": [
       "'PANAJI@12256'"
      ]
     },
     "execution_count": 33,
     "metadata": {},
     "output_type": "execute_result"
    }
   ],
   "source": [
    "word.upper()"
   ]
  },
  {
   "cell_type": "code",
   "execution_count": null,
   "id": "a482fd06-7eb2-424e-85e2-8a3151f931ef",
   "metadata": {
    "tags": []
   },
   "outputs": [],
   "source": [
    "word["
   ]
  },
  {
   "cell_type": "code",
   "execution_count": null,
   "id": "1c95ea94-67ce-4e14-8836-e736a9b8a801",
   "metadata": {},
   "outputs": [],
   "source": []
  },
  {
   "cell_type": "code",
   "execution_count": null,
   "id": "c186c800-2bdf-4344-8647-07fc284dff97",
   "metadata": {},
   "outputs": [],
   "source": []
  },
  {
   "cell_type": "code",
   "execution_count": 7,
   "id": "2021b51b-d16d-448b-8c35-f2fd15b9aada",
   "metadata": {
    "tags": []
   },
   "outputs": [],
   "source": [
    "#QUESTION 5"
   ]
  },
  {
   "cell_type": "code",
   "execution_count": 8,
   "id": "481e0e11-1911-4539-8cae-c8bd19f1cb7d",
   "metadata": {
    "tags": []
   },
   "outputs": [],
   "source": [
    "#WRITE A CODE TO STORE A NUMERICAL VALUE INSIDE A VARIABLE THEN CONVERT IT INTO STRING."
   ]
  },
  {
   "cell_type": "code",
   "execution_count": 9,
   "id": "911c98a6-b69f-4b06-9ef0-53685cdd4522",
   "metadata": {
    "tags": []
   },
   "outputs": [
    {
     "name": "stdout",
     "output_type": "stream",
     "text": [
      "42\n"
     ]
    }
   ],
   "source": [
    "number = 42\n",
    "number_as_string = str(number)\n",
    "print(number_as_string)"
   ]
  },
  {
   "cell_type": "code",
   "execution_count": null,
   "id": "666a6f8c-3ef5-4462-afa6-2b8080620fca",
   "metadata": {},
   "outputs": [],
   "source": []
  }
 ],
 "metadata": {
  "kernelspec": {
   "display_name": "Python 3 (ipykernel)",
   "language": "python",
   "name": "python3"
  },
  "language_info": {
   "codemirror_mode": {
    "name": "ipython",
    "version": 3
   },
   "file_extension": ".py",
   "mimetype": "text/x-python",
   "name": "python",
   "nbconvert_exporter": "python",
   "pygments_lexer": "ipython3",
   "version": "3.11.4"
  }
 },
 "nbformat": 4,
 "nbformat_minor": 5
}
